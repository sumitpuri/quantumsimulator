{
 "cells": [
  {
   "cell_type": "code",
   "execution_count": 1,
   "metadata": {},
   "outputs": [],
   "source": [
    "# Import required Python Libraries\n",
    "import numpy as np\n",
    "import math\n",
    "import itertools\n",
    "import random"
   ]
  },
  {
   "cell_type": "markdown",
   "metadata": {},
   "source": [
    "### 1. get_ground_state( )\n",
    "This function accepts the total number of qubits and returns the Ground State.<br>\n",
    "For 2 qubits, the ground state will be [1,0,0,0]. It represents 100% probability for 00 and 0% probability for 01,10, and 11.<br>\n",
    "For 3 qubits, the ground state will be [1,0,0,0,0,0,0,0].It represents 100% probability for 000 and 0% probability for 001,010,100,011,110,101 and 111."
   ]
  },
  {
   "cell_type": "code",
   "execution_count": 2,
   "metadata": {},
   "outputs": [],
   "source": [
    "def get_ground_state(num_qubits):\n",
    "    a = 2**num_qubits -1\n",
    "    b = [1]\n",
    "    for i in range(a):\n",
    "        b.append(0)\n",
    "    return b"
   ]
  },
  {
   "cell_type": "markdown",
   "metadata": {},
   "source": [
    "### 2. get_operator( )\n",
    "This function accepts the total number of qubits, gate, and the target qubit on which the Gate needs to be applied. <br>\n",
    "It returns the Matrix Operator for the Gate (programmed to work for X,H, and CNOT Gates only)<br>\n",
    "Matrix Operator is computed by calculating the Tensor Product of Gate Matrix and 2X2 Identity Matrix<br>\n",
    "For example, for single-qubit gate U and CNOT Gate in 3-qubit circuit:<br>\n",
    "Operator for U Gate on qubit 0 = U (X) I (X) I (where (X) is Tensor Product)<br>\n",
    "Operator for U Gate on qubit 1 = I (X) U (X) I <br>\n",
    "Operator for U Gate on qubit 2 = I (X) I (X) U <br>\n",
    "Operator for CNOT Gate on qubit 0 and 1 = CNOT (X) I <br>\n",
    "Operator for CNOT Gate on qubit 1 and 2 = I (X) CNOT"
   ]
  },
  {
   "cell_type": "code",
   "execution_count": 3,
   "metadata": {},
   "outputs": [],
   "source": [
    "def get_operator(total_qubits, gate_unitary, target_qubits):\n",
    "\n",
    "    I = np.identity(2)\n",
    " \n",
    "    if gate_unitary == 'x':\n",
    "        X = np.array([[0, 1],\n",
    "                      [1, 0]])\n",
    "        \n",
    "        result = None\n",
    "        for i in range(total_qubits):\n",
    "            operand = (X if i == target_qubits[0] else I)\n",
    "            if result is None:\n",
    "                result = operand\n",
    "            else:\n",
    "                result = np.kron(result,operand)\n",
    "        return result\n",
    "            \n",
    "    if gate_unitary == 'h':\n",
    "        H = np.array([\n",
    "            [1/np.sqrt(2), 1/np.sqrt(2)],\n",
    "            [1/np.sqrt(2), -1/np.sqrt(2)]\n",
    "            ])\n",
    "        \n",
    "        result = None\n",
    "        for i in range(total_qubits):\n",
    "            operand = (H if i == target_qubits[0] else I)\n",
    "            if result is None:\n",
    "                result = operand\n",
    "            else:\n",
    "                result = np.kron(result,operand)\n",
    "        return result      \n",
    "        \n",
    "        \n",
    "    if gate_unitary == 'cx':\n",
    "        CNOT = np.array([[1, 0, 0, 0],\n",
    "                         [0, 1, 0, 0],\n",
    "                         [0, 0, 0, 1],\n",
    "                         [0, 0, 1, 0]])\n",
    "        \n",
    "        result = None\n",
    "        for i in range(total_qubits):\n",
    "            if i==0:\n",
    "                continue\n",
    "            operand = (CNOT if i == target_qubits[1] else I)\n",
    "            if result is None:\n",
    "                result = operand\n",
    "            else:\n",
    "                result = np.kron(result,operand)\n",
    "        return result  \n"
   ]
  },
  {
   "cell_type": "markdown",
   "metadata": {},
   "source": [
    "### 3. run_program( )\n",
    "This function accepts the initial state and the Quantum Circuit in the form of Gate and the qubit on which the Gate needs to be applied.<br>\n",
    "It returns the Final State after the Gate has been applied."
   ]
  },
  {
   "cell_type": "code",
   "execution_count": 4,
   "metadata": {},
   "outputs": [],
   "source": [
    "def run_program(initial_state, program):\n",
    "    total_qubits = int(math.log(len(initial_state),2))\n",
    "    \n",
    "    psi = initial_state\n",
    "    for i in range(len(program)): \n",
    "        gate_unitary = program[i][\"gate\"]\n",
    "        target_qubits = program[i][\"target\"]\n",
    "        op = get_operator(total_qubits,gate_unitary,target_qubits)\n",
    "        psi = np.dot(op,psi)\n",
    "    return psi"
   ]
  },
  {
   "cell_type": "markdown",
   "metadata": {},
   "source": [
    "### 4. get_counts( )\n",
    "The Final State and the number of shots are passed to this function. <br>\n",
    "It calculates the probabilities fron the state vector and returns the random counts based on the weighted probabilities."
   ]
  },
  {
   "cell_type": "code",
   "execution_count": 5,
   "metadata": {},
   "outputs": [],
   "source": [
    "def get_counts(state_vector, num_shots):\n",
    "    total_qubits = int(math.log(len(state_vector),2))\n",
    "    pop= [\"\".join(seq) for seq in itertools.product(\"01\", repeat=total_qubits)]\n",
    "    prob= state_vector**2\n",
    "    a=random.choices(pop,final_state**2,k=num_shots)\n",
    "    \n",
    "    output = dict()\n",
    "    for i in range(len(pop)):\n",
    "        if a.count(pop[i]) == 0:\n",
    "            continue\n",
    "        output[pop[i]] = a.count(pop[i])\n",
    "    return output\n",
    "    "
   ]
  },
  {
   "cell_type": "markdown",
   "metadata": {},
   "source": [
    "## Run the Program\n",
    "1. Provide the Gate and the Qubit on which the Gate needs to be applied. <br>\n",
    "2. Provide the total number of Qubits on which the program needs to be based. <br>\n",
    "3. Provide the number of shots. <br>\n",
    "\n",
    "Result: The Program returns the counts of Basis States for the number of shots provided."
   ]
  },
  {
   "cell_type": "code",
   "execution_count": 6,
   "metadata": {},
   "outputs": [
    {
     "name": "stdout",
     "output_type": "stream",
     "text": [
      "000  :  496\n",
      "110  :  504\n"
     ]
    }
   ],
   "source": [
    "my_circuit = [\n",
    "  { \"gate\": \"h\", \"target\": [0] },\n",
    "  { \"gate\": \"cx\", \"target\": [0,1] }\n",
    "]\n",
    "\n",
    "my_qpu=get_ground_state(3)\n",
    "\n",
    "final_state=run_program(my_qpu, my_circuit)\n",
    "\n",
    "counts = get_counts(final_state, 1000)\n",
    "\n",
    "for key, value in counts.items():\n",
    "    print(key, ' : ', value)"
   ]
  },
  {
   "cell_type": "code",
   "execution_count": null,
   "metadata": {},
   "outputs": [],
   "source": []
  }
 ],
 "metadata": {
  "kernelspec": {
   "display_name": "Python 3",
   "language": "python",
   "name": "python3"
  },
  "language_info": {
   "codemirror_mode": {
    "name": "ipython",
    "version": 3
   },
   "file_extension": ".py",
   "mimetype": "text/x-python",
   "name": "python",
   "nbconvert_exporter": "python",
   "pygments_lexer": "ipython3",
   "version": "3.7.3"
  }
 },
 "nbformat": 4,
 "nbformat_minor": 2
}
